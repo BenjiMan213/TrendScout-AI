{
 "cells": [
  {
   "cell_type": "code",
   "execution_count": 1,
   "id": "07bf1fbe-2fbe-40e8-84c2-1967dbcc3fc1",
   "metadata": {},
   "outputs": [],
   "source": [
    "import networkx as nx\n",
    "from pyvis.network import Network\n",
    "import json\n",
    "import numpy"
   ]
  },
  {
   "cell_type": "code",
   "execution_count": 3,
   "id": "ce8174bd-d430-4ce7-99f8-9e93a8b282d6",
   "metadata": {},
   "outputs": [
    {
     "data": {
      "text/plain": [
       "5991"
      ]
     },
     "execution_count": 3,
     "metadata": {},
     "output_type": "execute_result"
    }
   ],
   "source": [
    "with open('techcrunch_200_latest_pages.json', 'r', encoding='utf-8') as f:\n",
    "    network_data = json.load(f)\n",
    "len(network_data.keys())"
   ]
  },
  {
   "cell_type": "code",
   "execution_count": 3,
   "id": "6497422e-048a-42b2-8500-ab6d2c2bba68",
   "metadata": {},
   "outputs": [
    {
     "name": "stdout",
     "output_type": "stream",
     "text": [
      "None\n"
     ]
    }
   ],
   "source": [
    "print(network_data.get('x'))"
   ]
  },
  {
   "cell_type": "code",
   "execution_count": 7,
   "id": "cae6f4ef-ee38-4e01-b6a0-2810bf045a1d",
   "metadata": {},
   "outputs": [],
   "source": [
    "net = Network(notebook=True, cdn_resources='remote')"
   ]
  },
  {
   "cell_type": "code",
   "execution_count": 9,
   "id": "188c8d57-736c-4319-9acc-54a1bfa1a258",
   "metadata": {},
   "outputs": [],
   "source": [
    "col1, col2 = [], []\n",
    "for url in network_data.keys():\n",
    "    net.add_node(url, network_data[url]['title'])\n",
    "unknowns = 0\n",
    "for url in network_data.keys():\n",
    "    for link in network_data[url]['hyperlinks']:\n",
    "        if not net.node_map.get(link):\n",
    "            net.add_node(link, f'unknown article {unknowns}')\n",
    "            unknowns += 1\n",
    "for url in network_data.keys():\n",
    "    for link in network_data[url]['hyperlinks']:\n",
    "        net.add_edge(url, link)\n"
   ]
  },
  {
   "cell_type": "code",
   "execution_count": 61,
   "id": "f04a7380-e52f-4bce-b72f-9d3c1d3bc7fc",
   "metadata": {
    "scrolled": true
   },
   "outputs": [
    {
     "name": "stdout",
     "output_type": "stream",
     "text": [
      "techcrunch_net_vis.html\n"
     ]
    },
    {
     "data": {
      "text/html": [
       "\n",
       "        <iframe\n",
       "            width=\"100%\"\n",
       "            height=\"600px\"\n",
       "            src=\"techcrunch_net_vis.html\"\n",
       "            frameborder=\"0\"\n",
       "            allowfullscreen\n",
       "            \n",
       "        ></iframe>\n",
       "        "
      ],
      "text/plain": [
       "<IPython.lib.display.IFrame at 0x24346652950>"
      ]
     },
     "execution_count": 61,
     "metadata": {},
     "output_type": "execute_result"
    }
   ],
   "source": [
    "net.show('techcrunch_net_vis.html')"
   ]
  },
  {
   "cell_type": "code",
   "execution_count": 41,
   "id": "fb5429bc-df70-469a-ae73-25fd0c79d670",
   "metadata": {},
   "outputs": [
    {
     "name": "stdout",
     "output_type": "stream",
     "text": [
      "None\n"
     ]
    }
   ],
   "source": [
    "print(net.node_map.get('asdf'))"
   ]
  },
  {
   "cell_type": "code",
   "execution_count": 25,
   "id": "f5fd89b9-ec81-44cf-ab34-53b965e46073",
   "metadata": {},
   "outputs": [
    {
     "data": {
      "text/plain": [
       "12251"
      ]
     },
     "execution_count": 25,
     "metadata": {},
     "output_type": "execute_result"
    }
   ],
   "source": [
    "len(net.node_map.keys())"
   ]
  },
  {
   "cell_type": "code",
   "execution_count": 33,
   "id": "8c7b499c-8e88-4156-9f1f-ff33639a0e2e",
   "metadata": {},
   "outputs": [],
   "source": [
    "numpy.savetxt('gephi_visualization.csv', numpy.array([[col1[i], col2[i]] for i in range(len(col1))]), delimiter=',', fmt='%s', encoding='utf-8')"
   ]
  },
  {
   "cell_type": "code",
   "execution_count": 27,
   "id": "e0945b32-6a57-4c44-aa73-f2d610eebdc8",
   "metadata": {},
   "outputs": [
    {
     "data": {
      "text/plain": [
       "['https://techcrunch.com/2022/09/01/zenly-is-still-hugely-popular-so-whys-snap-shutting-it-down/',\n",
       " 'https://techcrunch.com/2021/06/28/foursquare-founder-dennis-crowley-steps-back-from-the-company/',\n",
       " 'https://techcrunch.com/2014/05/01/foursquare-splits-into-two-apps-but-will-either-be-strong-enough-to-survive/',\n",
       " 'https://techcrunch.com/2022/05/11/faye-hopes-to-do-for-travel-insurance-what-lemonade-did-for-general-insurance/',\n",
       " 'https://techcrunch.com/2022/04/28/submit-your-pitch-deck-for-review/',\n",
       " 'https://techcrunch.com/2022/12/09/summary-slide/',\n",
       " 'https://techcrunch.com/2023/01/31/team-slide/',\n",
       " 'https://techcrunch.com/2022/09/18/investors-dgaf-about-your-product/',\n",
       " 'https://techcrunch.com/2023/02/07/solution-vs-product-in-pitch-deck/',\n",
       " 'https://techcrunch.com/2022/04/28/submit-your-pitch-deck-for-review/']"
      ]
     },
     "execution_count": 27,
     "metadata": {},
     "output_type": "execute_result"
    }
   ],
   "source": [
    "col2[-10:]"
   ]
  },
  {
   "cell_type": "code",
   "execution_count": 13,
   "id": "7867c569-70f9-4c30-bc6e-dadb151a1516",
   "metadata": {},
   "outputs": [],
   "source": [
    "adj_list = net.get_adj_list()"
   ]
  },
  {
   "cell_type": "code",
   "execution_count": 57,
   "id": "36db993a-a043-4a2d-84bf-93e6b10962cb",
   "metadata": {},
   "outputs": [],
   "source": [
    "dist = []\n",
    "for i in adj_list.keys():\n",
    "    dist.append(len(adj_list[i]))"
   ]
  },
  {
   "cell_type": "code",
   "execution_count": 61,
   "id": "30f4024c-d9dc-4638-9573-da23e5d52c70",
   "metadata": {},
   "outputs": [],
   "source": [
    "import matplotlib.pyplot as plt"
   ]
  },
  {
   "cell_type": "code",
   "execution_count": 81,
   "id": "6860cac8-5a99-4368-a4cf-c5678018e803",
   "metadata": {},
   "outputs": [],
   "source": [
    "s_dist = sorted(dist, reverse=True)"
   ]
  },
  {
   "cell_type": "code",
   "execution_count": 107,
   "id": "a6e5fdb1-f9e9-4b26-b735-e7b1bbe130f3",
   "metadata": {
    "scrolled": true
   },
   "outputs": [
    {
     "data": {
      "text/plain": [
       "10673"
      ]
     },
     "execution_count": 107,
     "metadata": {},
     "output_type": "execute_result"
    }
   ],
   "source": [
    "numpy.argmax(list(adj_list.keys()))"
   ]
  },
  {
   "cell_type": "code",
   "execution_count": 95,
   "id": "5fe5592e-929a-4823-bb92-d56d7d76a6bd",
   "metadata": {},
   "outputs": [
    {
     "data": {
      "text/plain": [
       "[<matplotlib.lines.Line2D at 0x19935c37f10>]"
      ]
     },
     "execution_count": 95,
     "metadata": {},
     "output_type": "execute_result"
    },
    {
     "data": {
      "image/png": "[encoded data removed]",
      "text/plain": [
       "<Figure size 640x480 with 1 Axes>"
      ]
     },
     "metadata": {},
     "output_type": "display_data"
    }
   ],
   "source": [
    "list(adj_list.keys())"
   ]
  },
  {
   "cell_type": "code",
   "execution_count": 15,
   "id": "3cadee21-9a63-49fe-bc65-45c839f46c64",
   "metadata": {},
   "outputs": [],
   "source": [
    "\n",
    "for i in adj_list.keys():\n",
    "    col1.append([i] + [t for t in adj_list[i]])\n",
    "    "
   ]
  },
  {
   "cell_type": "code",
   "execution_count": 25,
   "id": "0d40299a-f5ab-488e-b22b-f7ff7d0f7039",
   "metadata": {},
   "outputs": [
    {
     "data": {
      "text/plain": [
       "[['https://techcrunch.com/2025/10/03/with-its-latest-acqui-hire-openai-is-doubling-down-on-personalized-consumer-ai/',\n",
       "  'https://techcrunch.com/2025/04/15/openai-hires-team-behind-gv-backed-ai-eval-platform-context-ai/',\n",
       "  'https://techcrunch.com/2025/06/27/openai-hires-team-behind-ai-recommendation-startup-crossing-minds/',\n",
       "  'https://techcrunch.com/2025/05/07/instacart-ceo-fidji-simo-is-joining-openai/',\n",
       "  'https://techcrunch.com/2025/09/29/openai-takes-on-google-amazon-with-new-agentic-shopping-system/',\n",
       "  'https://techcrunch.com/2025/09/23/openai-is-building-five-new-stargate-data-centers-with-oracle-and-softbank/',\n",
       "  'https://techcrunch.com/2025/09/25/openai-launches-chatgpt-pulse-to-proactively-write-you-morning-briefs/',\n",
       "  'https://techcrunch.com/2025/09/05/openai-hires-the-team-behind-xcode-coding-assistant-alex-codes/',\n",
       "  'https://techcrunch.com/2025/09/30/openai-is-launching-the-sora-app-its-own-tiktok-competitor-alongside-the-sora-2-model/'],\n",
       " ['https://techcrunch.com/2025/10/03/sources-naveen-raos-new-ai-hardware-startup-targets-5b-valuation-with-backing-from-a16z/',\n",
       "  'https://techcrunch.com/2023/06/26/databricks-picks-up-mosaicml-an-openai-competitor-for-1-3b/',\n",
       "  'https://techcrunch.com/2025/09/08/databricks-confirms-new-100b-valuation-on-4b-arr/',\n",
       "  'https://techcrunch.com/2016/08/09/intel-buys-deep-learning-startup-nervana-systems-for-a-reported-350-million/'],\n",
       " ['https://techcrunch.com/2025/10/03/can-you-think-like-a-yc-partner-this-game-will-help-you-find-out/',\n",
       "  'https://techcrunch.com/events/tc-disrupt-2025/startup-battlefield/'],\n",
       " ['https://techcrunch.com/video/can-ai-companies-turn-brainrot-into-revenue/',\n",
       "  'https://techcrunch.com/2025/10/02/how-startups-could-be-affected-by-a-prolonged-government-shutdown/',\n",
       "  'https://techcrunch.com/podcasts/equity/'],\n",
       " ['https://techcrunch.com/2025/10/03/supabase-nabs-5b-valuation-four-months-after-hitting-2b/',\n",
       "  'https://techcrunch.com/2025/04/22/vibe-coding-helps-supabase-nab-200m-at-2b-valuation-just-seven-months-after-its-last-raise/',\n",
       "  'https://techcrunch.com/2025/08/20/anthropic-bundles-claude-code-into-enterprise-plans/',\n",
       "  'https://techcrunch.com/2025/06/05/cursors-anysphere-nabs-9-9b-valuation-soars-past-500m-arr/',\n",
       "  'https://techcrunch.com/2025/07/31/iconiqs-will-griffith-explains-how-his-firm-celebrated-figmas-ipo-and-why-investors-sold-shares/',\n",
       "  'https://techcrunch.com/2024/09/25/supabase-a-postgres-centric-developer-platform-raises-80m-series-c/',\n",
       "  'https://techcrunch.com/2025/09/01/lovables-ceo-isnt-too-worried-about-the-vibe-coding-competition/',\n",
       "  'https://techcrunch.com/2025/10/02/after-nine-years-of-grinding-replit-finally-found-its-market-can-it-keep-it/']]"
      ]
     },
     "execution_count": 25,
     "metadata": {},
     "output_type": "execute_result"
    }
   ],
   "source": [
    "col1[:5]"
   ]
  },
  {
   "cell_type": "code",
   "execution_count": 27,
   "id": "4debefb0-e21d-4c7e-9513-1a285f644da2",
   "metadata": {},
   "outputs": [
    {
     "data": {
      "text/plain": [
       "{'https://techcrunch.com/2025/04/15/openai-hires-team-behind-gv-backed-ai-eval-platform-context-ai/',\n",
       " 'https://techcrunch.com/2025/05/07/instacart-ceo-fidji-simo-is-joining-openai/',\n",
       " 'https://techcrunch.com/2025/06/27/openai-hires-team-behind-ai-recommendation-startup-crossing-minds/',\n",
       " 'https://techcrunch.com/2025/09/05/openai-hires-the-team-behind-xcode-coding-assistant-alex-codes/',\n",
       " 'https://techcrunch.com/2025/09/23/openai-is-building-five-new-stargate-data-centers-with-oracle-and-softbank/',\n",
       " 'https://techcrunch.com/2025/09/25/openai-launches-chatgpt-pulse-to-proactively-write-you-morning-briefs/',\n",
       " 'https://techcrunch.com/2025/09/29/openai-takes-on-google-amazon-with-new-agentic-shopping-system/',\n",
       " 'https://techcrunch.com/2025/09/30/openai-is-launching-the-sora-app-its-own-tiktok-competitor-alongside-the-sora-2-model/'}"
      ]
     },
     "execution_count": 27,
     "metadata": {},
     "output_type": "execute_result"
    }
   ],
   "source": [
    "adj_list['https://techcrunch.com/2025/10/03/with-its-latest-acqui-hire-openai-is-doubling-down-on-personalized-consumer-ai/']"
   ]
  },
  {
   "cell_type": "code",
   "execution_count": 17,
   "id": "69a722ed-6673-4760-9214-19e0bd8e6f15",
   "metadata": {},
   "outputs": [
    {
     "ename": "ValueError",
     "evalue": "setting an array element with a sequence. The requested array has an inhomogeneous shape after 1 dimensions. The detected shape was (12251,) + inhomogeneous part.",
     "output_type": "error",
     "traceback": [
      "\u001b[1;31m---------------------------------------------------------------------------\u001b[0m",
      "\u001b[1;31mValueError\u001b[0m                                Traceback (most recent call last)",
      "Cell \u001b[1;32mIn[17], line 1\u001b[0m\n\u001b[1;32m----> 1\u001b[0m numpy\u001b[38;5;241m.\u001b[39msavetxt(\u001b[38;5;124m'\u001b[39m\u001b[38;5;124mgephi_adj_latest_list.csv\u001b[39m\u001b[38;5;124m'\u001b[39m, \u001b[43mnumpy\u001b[49m\u001b[38;5;241;43m.\u001b[39;49m\u001b[43marray\u001b[49m\u001b[43m(\u001b[49m\u001b[43mcol1\u001b[49m\u001b[43m)\u001b[49m, delimiter\u001b[38;5;241m=\u001b[39m\u001b[38;5;124m'\u001b[39m\u001b[38;5;124m,\u001b[39m\u001b[38;5;124m'\u001b[39m, fmt\u001b[38;5;241m=\u001b[39m\u001b[38;5;124m'\u001b[39m\u001b[38;5;132;01m%s\u001b[39;00m\u001b[38;5;124m'\u001b[39m, encoding\u001b[38;5;241m=\u001b[39m\u001b[38;5;124m'\u001b[39m\u001b[38;5;124mutf-8\u001b[39m\u001b[38;5;124m'\u001b[39m)\n",
      "\u001b[1;31mValueError\u001b[0m: setting an array element with a sequence. The requested array has an inhomogeneous shape after 1 dimensions. The detected shape was (12251,) + inhomogeneous part."
     ]
    }
   ],
   "source": [
    "numpy.savetxt('gephi_adj_latest_list.csv', numpy.array(col1), delimiter=',', fmt='%s', encoding='utf-8')"
   ]
  },
  {
   "cell_type": "code",
   "execution_count": 19,
   "id": "7b2c10fe-421f-45b6-9676-8cf6206506e1",
   "metadata": {},
   "outputs": [],
   "source": [
    "import pandas"
   ]
  },
  {
   "cell_type": "code",
   "execution_count": 21,
   "id": "dfa60ad0-71c7-49b9-9323-20e6cd8f66f3",
   "metadata": {},
   "outputs": [],
   "source": [
    "df = pandas.DataFrame(col1)"
   ]
  },
  {
   "cell_type": "code",
   "execution_count": 23,
   "id": "f15984d1-5866-453e-bfc0-ae32bba0f48b",
   "metadata": {},
   "outputs": [],
   "source": [
    "df.to_csv('gephi_adj_latest_list.csv')"
   ]
  },
  {
   "cell_type": "code",
   "execution_count": null,
   "id": "f9b88ef7-f979-4b1f-8c25-b630e91a4a4f",
   "metadata": {},
   "outputs": [],
   "source": []
  }
 ],
 "metadata": {
  "kernelspec": {
   "display_name": "Python 3 (ipykernel)",
   "language": "python",
   "name": "python3"
  },
  "language_info": {
   "codemirror_mode": {
    "name": "ipython",
    "version": 3
   },
   "file_extension": ".py",
   "mimetype": "text/x-python",
   "name": "python",
   "nbconvert_exporter": "python",
   "pygments_lexer": "ipython3",
   "version": "3.10.14"
  }
 },
 "nbformat": 4,
 "nbformat_minor": 5
}
